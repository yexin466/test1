{
 "cells": [
  {
   "cell_type": "code",
   "execution_count": null,
   "metadata": {},
   "outputs": [
    {
     "ename": "",
     "evalue": "",
     "output_type": "error",
     "traceback": [
      "\u001b[1;31m运行具有“d:\\Downloads\\software\\python3.14\\python.exe”的单元格需要ipykernel包。\n",
      "\u001b[1;31m运行以下命令，将 \"ipykernel\" 安装到 Python 环境中。\n",
      "\u001b[1;31m命令: \"d:/Downloads/software/python3.14/python.exe -m pip install ipykernel -U --user --force-reinstall\""
     ]
    }
   ],
   "source": [
    "if __name__ == '__main__':\n",
    "    # 发动机的总个数, 计划手动启动的发动机总个数\n",
    "    n, e = map(int, input().split())\n",
    " \n",
    "    # 记录每个发动机的最终启动时刻, 初始化为极大值，方便后面取最早启动时刻\n",
    "    launches = [2001] * n\n",
    " \n",
    "    for _ in range(e):\n",
    "        # 发动机的手动启动时刻, 发动机的位置编号\n",
    "        t, p = map(int, input().split())\n",
    "        # p号发动机在t时刻手动启动\n",
    "        launches[p] = t\n",
    " \n",
    "    # 从编号 i 的发动机手动启动后, 关联启动到编号 j\n",
    "    for i in range(n):\n",
    "        for j in range(n):\n",
    "            # 内关联距离\n",
    "            innerDis = abs(i - j)\n",
    "            # 外关联距离\n",
    "            outerDis = n - innerDis\n",
    "            # 最短关联距离\n",
    "            minDis = min(innerDis, outerDis)\n",
    "            launches[j] = min(launches[j], launches[i] + minDis)\n",
    " \n",
    "    maxT = 0  # 最晚启动时刻\n",
    "    last = []  # 最晚启动的发动机编号集合\n",
    " \n",
    "    for p in range(n):\n",
    "        t = launches[p]  # 当前发动机启动时刻\n",
    " \n",
    "        if t < maxT:  # 不是最晚启动的发动机\n",
    "            continue\n",
    " \n",
    "        # 更晚启动的时刻\n",
    "        if t > maxT:\n",
    "            maxT = t\n",
    "            last.clear()\n",
    " \n",
    "        last.append(p)  # 记录该发动机编号\n",
    " \n",
    "    last.sort()\n",
    " \n",
    "    print(len(last))\n",
    "    print(\" \".join(map(str, last)))"
   ]
  }
 ],
 "metadata": {
  "kernelspec": {
   "display_name": "Python 3",
   "language": "python",
   "name": "python3"
  },
  "language_info": {
   "name": "python",
   "version": "3.14.0"
  }
 },
 "nbformat": 4,
 "nbformat_minor": 2
}
